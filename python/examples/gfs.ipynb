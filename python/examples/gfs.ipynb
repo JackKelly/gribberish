{
 "cells": [
  {
   "cell_type": "code",
   "execution_count": null,
   "metadata": {},
   "outputs": [],
   "source": [
    "import cf_xarray\n",
    "import gribberish\n",
    "import xarray as xr\n",
    "import cfgrib\n",
    "\n",
    "ds = xr.open_dataset('/Users/matthewiannucci/Downloads/gfs.t18z.pgrb2.0p25.f186.grib2', engine='gribberish')\n",
    "\n",
    "#ds_truth = xr.open_dataset('/Users/matthewiannucci/Downloads/gfs.t18z.pgrb2.0p25.f186.grib2', engine='cfgrib', filter_by_keys={'stepType': 'instant', 'typeOfLevel': 'surface'})\n",
    "ds"
   ]
  },
  {
   "cell_type": "code",
   "execution_count": null,
   "metadata": {},
   "outputs": [],
   "source": [
    "ds['GUST@groundorwater_0&2023-01-12T12:00:00+00:00'].plot()"
   ]
  },
  {
   "cell_type": "code",
   "execution_count": null,
   "metadata": {},
   "outputs": [],
   "source": [
    "print(f'truth: {float(gust_truth.sel(latitude=41, longitude=-71, method=\"nearest\").values)}')\n",
    "print(f'compare: {float(gust.sel(lat=41, lon=-71, method=\"nearest\").values)}')\n",
    "print('-----')\n",
    "print(f'truth: {float(gust_truth.isel(latitude=0, longitude=2).values)}')\n",
    "print(f'compa: {float(gust.isel(lat=0, lon=2).values)}')"
   ]
  },
  {
   "cell_type": "code",
   "execution_count": null,
   "metadata": {},
   "outputs": [],
   "source": [
    "gust.plot()"
   ]
  },
  {
   "cell_type": "code",
   "execution_count": null,
   "metadata": {},
   "outputs": [],
   "source": []
  }
 ],
 "metadata": {
  "kernelspec": {
   "display_name": "env",
   "language": "python",
   "name": "python3"
  },
  "language_info": {
   "codemirror_mode": {
    "name": "ipython",
    "version": 3
   },
   "file_extension": ".py",
   "mimetype": "text/x-python",
   "name": "python",
   "nbconvert_exporter": "python",
   "pygments_lexer": "ipython3",
   "version": "3.9.11 (main, Mar 29 2022, 21:18:07) \n[Clang 13.1.6 (clang-1316.0.21.2)]"
  },
  "orig_nbformat": 4,
  "vscode": {
   "interpreter": {
    "hash": "d0959c587ba8dff2e130ae9b76d7a360ba83c42b48d7ecd2911297f39dde6979"
   }
  }
 },
 "nbformat": 4,
 "nbformat_minor": 2
}
