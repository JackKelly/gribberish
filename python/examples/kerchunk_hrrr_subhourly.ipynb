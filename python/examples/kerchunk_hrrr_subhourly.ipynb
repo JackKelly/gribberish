{
 "cells": [
  {
   "cell_type": "code",
   "execution_count": null,
   "metadata": {},
   "outputs": [],
   "source": [
    "import fsspec\n",
    "\n",
    "fs_read = fsspec.filesystem('s3', anon=True, skip_instance_cache=True, use_ssl=False) # For now SSL false is solving my cert issues **shrug**\n",
    "fs_write = fsspec.filesystem('')"
   ]
  },
  {
   "cell_type": "code",
   "execution_count": null,
   "metadata": {},
   "outputs": [],
   "source": [
    "hrr_subhourly_member_files = fs_read.glob('s3://noaa-hrrr-bdp-pds/hrrr.20230720/conus/hrrr.t23z.wrfsubhf*.grib2')\n",
    "\n",
    "files = sorted(['s3://'+f for f in hrr_subhourly_member_files])\n",
    "print(f'Read {len(files)} HRRR files')"
   ]
  },
  {
   "cell_type": "code",
   "execution_count": null,
   "metadata": {},
   "outputs": [],
   "source": [
    "import ujson\n",
    "from gribberish.kerchunk import scan_gribberish\n",
    "\n",
    "so = {\"anon\": True, \"use_ssl\": False}\n",
    "json_dir = 'hrrr/'\n",
    "\n",
    "def make_json_name(file_url, message_number): #create a unique name for each reference file\n",
    "    date = file_url.split('/')[3].split('.')[1]\n",
    "    name = file_url.split('/')[5].split('.')[0:3]\n",
    "    return f'{json_dir}{date}_{name[0]}_{name[1]}_{name[2]}_message{message_number}.json'\n",
    "\n",
    "def gen_json(file_url):\n",
    "    out = scan_gribberish(file_url, storage_options=so, only_variables=['prate', 'ugrd', 'vgrd', 'tmp'], perserve_dims=['hag'], filter_by_attrs={'statistical_process': ''}) \n",
    "    for i, message in enumerate(out):\n",
    "        out_file_name = make_json_name(file_url, i)  # get name\n",
    "        with fs_write.open(out_file_name, \"w\") as f: \n",
    "            f.write(ujson.dumps(message)) # write to file"
   ]
  },
  {
   "cell_type": "code",
   "execution_count": null,
   "metadata": {},
   "outputs": [],
   "source": [
    "from dask.distributed import Client, progress\n",
    "\n",
    "client = Client()"
   ]
  },
  {
   "cell_type": "code",
   "execution_count": null,
   "metadata": {},
   "outputs": [],
   "source": [
    "futures = client.map(gen_json, files[1:], retries=1)\n",
    "progress(futures)"
   ]
  },
  {
   "cell_type": "code",
   "execution_count": null,
   "metadata": {},
   "outputs": [],
   "source": [
    "client.shutdown()"
   ]
  },
  {
   "cell_type": "code",
   "execution_count": null,
   "metadata": {},
   "outputs": [],
   "source": [
    "from kerchunk.combine import MultiZarrToZarr\n",
    "\n",
    "reference_jsons = sorted(fs_write.ls(json_dir)) #get list of file names\n",
    "\n",
    "print(f'Found {len(reference_jsons)} reference files')\n",
    "\n",
    "# combine individual references into single consolidated reference\n",
    "mzz = MultiZarrToZarr(reference_jsons,\n",
    "                      concat_dims = ['time'],\n",
    "                      identical_dims=['x', 'y', 'latitude', 'longitude', 'hag'])\n",
    "\n",
    "d = mzz.translate()\n",
    "\n",
    "with open(f'{json_dir}/hrrr_kerchunk.json', 'w') as f:\n",
    "    f.write(ujson.dumps(d))"
   ]
  },
  {
   "cell_type": "code",
   "execution_count": null,
   "metadata": {},
   "outputs": [],
   "source": [
    "import xarray as xr\n",
    "\n",
    "# open dataset as zarr object using fsspec reference file system and xarray\n",
    "fs = fsspec.filesystem(\"reference\", fo=f'./hrrr/hrrr_kerchunk.json', remote_protocol='s3', remote_options={'anon':True, 'use_ssl': False})\n",
    "m = fs.get_mapper(\"\")\n",
    "ds = xr.open_dataset(m, engine=\"zarr\", backend_kwargs=dict(consolidated=False), chunks={'time': 1})\n",
    "ds"
   ]
  },
  {
   "cell_type": "code",
   "execution_count": null,
   "metadata": {},
   "outputs": [],
   "source": [
    "import pyproj\n",
    "to_xy = pyproj.Transformer.from_crs('epsg:4326', ds.apcp.crs, always_xy=True).transform"
   ]
  },
  {
   "cell_type": "code",
   "execution_count": null,
   "metadata": {},
   "outputs": [],
   "source": [
    "lat, lng = 41.42717976016072, -71.462122760827\n",
    "x_sel, y_sel = to_xy(lng, lat)"
   ]
  },
  {
   "cell_type": "code",
   "execution_count": null,
   "metadata": {},
   "outputs": [],
   "source": [
    "from matplotlib import pyplot as plt\n",
    "\n",
    "f, ax = plt.subplots(figsize=(10, 4))\n",
    "\n",
    "selected_ds = ds.interp(x=x_sel, y=y_sel, method='linear')\n",
    "\n",
    "selected_prate = (selected_ds.prate * 3600) / 25.4 # convert from kg/m^2/s to in/hr\n",
    "selected_apcp = selected_ds.apcp / 25.4 # convert from kg/m^2/s to in/hr\n",
    "\n",
    "#selected_prate.plot.line(ax=ax)\n",
    "selected_apcp.plot.line(ax=ax)"
   ]
  },
  {
   "cell_type": "code",
   "execution_count": null,
   "metadata": {},
   "outputs": [],
   "source": []
  }
 ],
 "metadata": {
  "kernelspec": {
   "display_name": "env",
   "language": "python",
   "name": "python3"
  },
  "language_info": {
   "codemirror_mode": {
    "name": "ipython",
    "version": 3
   },
   "file_extension": ".py",
   "mimetype": "text/x-python",
   "name": "python",
   "nbconvert_exporter": "python",
   "pygments_lexer": "ipython3",
   "version": "3.9.11"
  },
  "orig_nbformat": 4
 },
 "nbformat": 4,
 "nbformat_minor": 2
}
